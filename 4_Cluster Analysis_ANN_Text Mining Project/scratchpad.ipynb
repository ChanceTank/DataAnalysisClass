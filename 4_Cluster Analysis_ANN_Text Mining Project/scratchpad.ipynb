{
 "cells": [
  {
   "cell_type": "markdown",
   "metadata": {},
   "source": [
    "### Detailed Steps for Cluster Analysis\n",
    "\n",
    "#### **Objective**: Perform clustering to group movies in the IMDB dataset by common characteristics using **K-Means** and **Hierarchical Clustering**.\n",
    "\n",
    "---\n",
    "\n",
    "### **Step 1: Data Preparation**\n",
    "1. **Load the Dataset**:\n",
    "   - Import the dataset `imdb_dataset.csv` from the given path (`Files -> Labs -> Data`).\n",
    "   - Check the structure of the dataset (e.g., `pandas` for Python users):\n",
    "     "
   ]
  },
  {
   "cell_type": "code",
   "execution_count": null,
   "metadata": {},
   "outputs": [],
   "source": [
    "import pandas as pd\n",
    "import numpy as np\n",
    "from sklearn.feature_extraction.text import TfidfVectorizer\n",
    "from sklearn.preprocessing import MinMaxScaler\n",
    "from sklearn.cluster import KMeans\n",
    "from scipy.cluster.hierarchy import dendrogram, linkage\n",
    "\n",
    "\n",
    "data = pd.read_csv(\"imdb_dataset.csv\")\n",
    "print(data.head())"
   ]
  },
  {
   "cell_type": "markdown",
   "metadata": {},
   "source": [
    "2. **Data Cleaning**:\n",
    "   - Remove missing or irrelevant rows (if any).\n",
    "   - Remove labels if present (clustering is unsupervised).\n",
    "\n",
    "3. **Preprocessing for Clustering**:\n",
    "   - **Text Feature Extraction with TF-IDF**:\n",
    "     - Import and process the text data:\n",
    "      "
   ]
  },
  {
   "cell_type": "code",
   "execution_count": 14,
   "metadata": {},
   "outputs": [],
   "source": [
    "# Data Cleaning\n",
    "# Remove rows with missing values\n",
    "data.dropna(inplace=True)\n",
    "\n",
    "# Remove the 'Unnamed: 0' column if it exists\n",
    "if 'Unnamed: 0' in data.columns:\n",
    "    data.drop(columns=['Unnamed: 0'], inplace=True)\n",
    "\n",
    "# Remove labels (assuming 'title' and 'imdb_url' are labels)\n",
    "data.drop(columns=['title', 'imdb_url'], inplace=True)"
   ]
  },
  {
   "cell_type": "markdown",
   "metadata": {},
   "source": [
    "- Output:\n",
    "       - `tfidf_matrix` is a sparse matrix where each row corresponds to a document and each column to a word, with values reflecting the term’s relative importance (normalized frequency).\n",
    "\n",
    "---\n"
   ]
  },
  {
   "cell_type": "markdown",
   "metadata": {},
   "source": [
    "\n",
    "### **Step 2: K-Means Clustering**\n",
    "1. **Determine Optimal Number of Clusters (Elbow Method)**:\n",
    "   - Use the **Sum of Squared Errors (SSE)** to find the \"elbow\" point.\n",
    "   - Plot SSE vs. Number of Clusters:\n",
    "    "
   ]
  },
  {
   "cell_type": "code",
   "execution_count": null,
   "metadata": {},
   "outputs": [],
   "source": [
    "from sklearn.cluster import KMeans\n",
    "import matplotlib.pyplot as plt\n",
    "\n",
    "sse = []\n",
    "for k in range(1, 11):\n",
    "kmeans = KMeans(n_clusters=k, random_state=42)\n",
    "kmeans.fit(tfidf_matrix)\n",
    "sse.append(kmeans.inertia_)  # Sum of squared distances to cluster centers\n",
    "\n",
    "plt.plot(range(1, 11), sse)\n",
    "plt.xlabel('Number of Clusters')\n",
    "plt.ylabel('SSE')\n",
    "plt.title('Elbow Method')\n",
    "plt.show()\n"
   ]
  },
  {
   "cell_type": "markdown",
   "metadata": {},
   "source": [
    "\n",
    "2. **Apply K-Means**:\n",
    "   - Choose the optimal number of clusters (`k`) based on the elbow method.\n",
    "   - Perform clustering:\n",
    "   "
   ]
  },
  {
   "cell_type": "markdown",
   "metadata": {},
   "source": [
    "optimal_k = 5  # Replace with the value from the elbow plot\n",
    "kmeans = KMeans(n_clusters=optimal_k, random_state=42)\n",
    "kmeans.fit(tfidf_matrix)\n",
    "labels = kmeans.labels_  # Cluster labels for each document\n"
   ]
  },
  {
   "cell_type": "markdown",
   "metadata": {},
   "source": [
    "   - Add cluster labels back to the dataset:\n",
    "   "
   ]
  },
  {
   "cell_type": "code",
   "execution_count": null,
   "metadata": {},
   "outputs": [],
   "source": [
    "data['cluster'] = labels\n"
   ]
  },
  {
   "cell_type": "markdown",
   "metadata": {},
   "source": [
    "\n",
    "3. **Visualize Clusters** (optional):\n",
    "   - Reduce the dimensionality for visualization using PCA or t-SNE:\n",
    "    "
   ]
  },
  {
   "cell_type": "code",
   "execution_count": null,
   "metadata": {},
   "outputs": [],
   "source": [
    "from sklearn.decomposition import PCA\n",
    "import seaborn as sns\n",
    "\n",
    "pca = PCA(n_components=2)\n",
    "reduced_data = pca.fit_transform(tfidf_matrix.toarray())\n",
    "sns.scatterplot(x=reduced_data[:, 0], y=reduced_data[:, 1], hue=labels, palette=\"viridis\")\n"
   ]
  },
  {
   "cell_type": "markdown",
   "metadata": {},
   "source": [
    "\n",
    "---\n",
    "\n",
    "### **Step 3: Hierarchical Clustering**\n",
    "1. **Compute Linkages**:\n",
    "   - Use **single**, **complete**, and **average** linkages.\n",
    "   - Import and fit the hierarchical clustering algorithm:\n",
    "    "
   ]
  },
  {
   "cell_type": "code",
   "execution_count": null,
   "metadata": {},
   "outputs": [],
   "source": [
    "from scipy.cluster.hierarchy import dendrogram, linkage\n",
    "\n",
    "linkages = ['single', 'complete', 'average']\n",
    "for method in linkages:\n",
    "    Z = linkage(tfidf_matrix.toarray(), method=method)\n",
    "    plt.figure(figsize=(10, 7))\n",
    "    dendrogram(Z)\n",
    "    plt.title(f\"Hierarchical Clustering Dendrogram ({method.capitalize()} Linkage)\")\n",
    "    plt.show()\n"
   ]
  },
  {
   "cell_type": "markdown",
   "metadata": {},
   "source": [
    "2. **Interpret the Dendrogram**:\n",
    "   - The vertical axis represents the distance between merged clusters.\n",
    "   - Cut the dendrogram at a height that yields the desired number of clusters.\n",
    "\n",
    "---\n",
    "\n",
    "### **Step 4: Evaluate Clustering Results**\n",
    "1. **Internal Evaluation**:\n",
    "   - Use metrics such as **silhouette score** to assess cluster quality:\n",
    "    "
   ]
  },
  {
   "cell_type": "code",
   "execution_count": null,
   "metadata": {},
   "outputs": [],
   "source": [
    "from sklearn.metrics import silhouette_score\n",
    "score = silhouette_score(tfidf_matrix, labels)\n",
    "print(f\"Silhouette Score: {score}\")"
   ]
  },
  {
   "cell_type": "markdown",
   "metadata": {},
   "source": [
    "\n",
    "2. **External Evaluation** (Optional):\n",
    "   - Compare clusters with true labels (if available) using metrics like accuracy or adjusted Rand index.\n",
    "\n",
    "---\n",
    "\n",
    "### **Output**\n",
    "- For **K-Means**:\n",
    "  - Cluster assignments for each document.\n",
    "  - SSE plot to explain the optimal number of clusters.\n",
    "- For **Hierarchical Clustering**:\n",
    "  - Dendrograms visualizing the clustering process.\n",
    "- Discussion on the differences in clusters produced by the two methods."
   ]
  }
 ],
 "metadata": {
  "kernelspec": {
   "display_name": "Python 3",
   "language": "python",
   "name": "python3"
  },
  "language_info": {
   "codemirror_mode": {
    "name": "ipython",
    "version": 3
   },
   "file_extension": ".py",
   "mimetype": "text/x-python",
   "name": "python",
   "nbconvert_exporter": "python",
   "pygments_lexer": "ipython3",
   "version": "3.12.5"
  }
 },
 "nbformat": 4,
 "nbformat_minor": 2
}
